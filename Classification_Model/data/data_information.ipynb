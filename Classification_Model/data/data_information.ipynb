{
 "cells": [
  {
   "cell_type": "code",
   "execution_count": 1,
   "metadata": {},
   "outputs": [],
   "source": [
    "import pandas as pd"
   ]
  },
  {
   "cell_type": "code",
   "execution_count": 3,
   "metadata": {},
   "outputs": [
    {
     "name": "stderr",
     "output_type": "stream",
     "text": [
      "<>:1: SyntaxWarning: invalid escape sequence '\\F'\n",
      "<>:1: SyntaxWarning: invalid escape sequence '\\F'\n",
      "C:\\Users\\tridu\\AppData\\Local\\Temp\\ipykernel_9604\\1779134011.py:1: SyntaxWarning: invalid escape sequence '\\F'\n",
      "  data = pd.read_csv('huggingface\\Final_Augmented_dataset_Diseases_and_Symptoms.csv')\n"
     ]
    }
   ],
   "source": [
    "data = pd.read_csv('huggingface\\Final_Augmented_dataset_Diseases_and_Symptoms.csv')"
   ]
  },
  {
   "cell_type": "code",
   "execution_count": 8,
   "metadata": {},
   "outputs": [
    {
     "data": {
      "text/plain": [
       "773"
      ]
     },
     "execution_count": 8,
     "metadata": {},
     "output_type": "execute_result"
    }
   ],
   "source": [
    "len(data['diseases'].unique())"
   ]
  }
 ],
 "metadata": {
  "kernelspec": {
   "display_name": "d2l",
   "language": "python",
   "name": "python3"
  },
  "language_info": {
   "codemirror_mode": {
    "name": "ipython",
    "version": 3
   },
   "file_extension": ".py",
   "mimetype": "text/x-python",
   "name": "python",
   "nbconvert_exporter": "python",
   "pygments_lexer": "ipython3",
   "version": "3.12.3"
  }
 },
 "nbformat": 4,
 "nbformat_minor": 2
}
