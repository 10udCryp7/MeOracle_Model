{
 "cells": [
  {
   "cell_type": "code",
   "execution_count": 3,
   "metadata": {},
   "outputs": [],
   "source": [
    "#VIN DATASET\n",
    "import pandas as pd\n",
    "\n",
    "df = pd.read_csv(\"hf://datasets/PB3002/ViMedical_Disease/ViMedical_Disease.csv\")"
   ]
  },
  {
   "cell_type": "code",
   "execution_count": null,
   "metadata": {},
   "outputs": [],
   "source": [
    "#QUYEN ANH DATASET\n",
    "import pandas as pd\n",
    "\n",
    "df = pd.read_csv(\"hf://datasets/QuyenAnhDE/Diseases_Symptoms/Diseases_Symptoms.csv\")"
   ]
  },
  {
   "cell_type": "code",
   "execution_count": null,
   "metadata": {},
   "outputs": [],
   "source": [
    "#SYMPTOMS TO DIAGNOSIS DATASET\n",
    "import pandas as pd\n",
    "\n",
    "splits = {'train': 'train.jsonl', 'test': 'test.jsonl'}\n",
    "df = pd.read_json(\"hf://datasets/gretelai/symptom_to_diagnosis/\" + splits[\"train\", lines=True])"
   ]
  },
  {
   "cell_type": "code",
   "execution_count": null,
   "metadata": {},
   "outputs": [],
   "source": [
    "#VERY BIG DISEASES DATASET\n",
    "from datasets import load_dataset\n",
    "\n",
    "ds = load_dataset(\"mohammad2928git/complete_medical_symptom_dataset\")"
   ]
  }
 ],
 "metadata": {
  "kernelspec": {
   "display_name": "d2l",
   "language": "python",
   "name": "python3"
  },
  "language_info": {
   "codemirror_mode": {
    "name": "ipython",
    "version": 3
   },
   "file_extension": ".py",
   "mimetype": "text/x-python",
   "name": "python",
   "nbconvert_exporter": "python",
   "pygments_lexer": "ipython3",
   "version": "3.12.3"
  }
 },
 "nbformat": 4,
 "nbformat_minor": 2
}
